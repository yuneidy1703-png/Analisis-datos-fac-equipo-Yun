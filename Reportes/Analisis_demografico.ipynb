{
  "nbformat": 4,
  "nbformat_minor": 0,
  "metadata": {
    "colab": {
      "provenance": [],
      "mount_file_id": "1UvTgQuI24sGqU8B6i4gd4nVuBMfz7Glt",
      "authorship_tag": "ABX9TyNRjhpMD/t0mzHlNoQ6SAtt",
      "include_colab_link": true
    },
    "kernelspec": {
      "name": "python3",
      "display_name": "Python 3"
    },
    "language_info": {
      "name": "python"
    }
  },
  "cells": [
    {
      "cell_type": "markdown",
      "metadata": {
        "id": "view-in-github",
        "colab_type": "text"
      },
      "source": [
        "<a href=\"https://colab.research.google.com/github/yuneidy1703-png/Analisis-datos-fac-equipo-Yun/blob/main/Reportes/Analisis_demografico.ipynb\" target=\"_parent\"><img src=\"https://colab.research.google.com/assets/colab-badge.svg\" alt=\"Open In Colab\"/></a>"
      ]
    },
    {
      "cell_type": "markdown",
      "source": [
        "# **Análisis Demográfico**\n",
        "\n",
        "**Responsabilidades:**\n",
        "\n",
        "*   Explorar las columnas básicas de demografía\n",
        "*   Crear visualizaciones simples de edad, género, rango\n",
        "*   Documentar hallazgos principales\n"
      ],
      "metadata": {
        "id": "t2kCkLuZYoe2"
      }
    },
    {
      "cell_type": "code",
      "source": [
        "#Demografia basica.py\n",
        "#Librerias\n",
        "import pandas as pd\n",
        "import matplotlib.pyplot as plt"
      ],
      "metadata": {
        "id": "w_Fzj8BzYh9d"
      },
      "execution_count": 2,
      "outputs": []
    },
    {
      "cell_type": "code",
      "source": [
        "#Conectar a drive\n",
        "from google.colab import drive\n",
        "drive.mount('/content/drive')"
      ],
      "metadata": {
        "colab": {
          "base_uri": "https://localhost:8080/"
        },
        "id": "Pjpra1W3ZnwD",
        "outputId": "875315b7-e9d5-47ac-9738-d4a736c2a26c"
      },
      "execution_count": 3,
      "outputs": [
        {
          "output_type": "stream",
          "name": "stdout",
          "text": [
            "Drive already mounted at /content/drive; to attempt to forcibly remount, call drive.mount(\"/content/drive\", force_remount=True).\n"
          ]
        }
      ]
    },
    {
      "cell_type": "code",
      "source": [
        "# Leer los datos\n",
        "df = pd.read_excel('/content/drive/MyDrive/Python/JEFAB_2024.xlsx')"
      ],
      "metadata": {
        "id": "fiFYxl3KZLcB"
      },
      "execution_count": 4,
      "outputs": []
    },
    {
      "cell_type": "code",
      "source": [
        "# Explorar estructura básica\n",
        "print(\"=== INFORMACIÓN GENERAL ===\")\n",
        "print(f\"Total de registros: {len(df)}\")\n",
        "print(f\"Total de columnas: {len(df.columns)}\")"
      ],
      "metadata": {
        "colab": {
          "base_uri": "https://localhost:8080/"
        },
        "id": "UdotKri-Z09a",
        "outputId": "b58e1140-e475-462b-b6da-8b084aa6a3a3"
      },
      "execution_count": 5,
      "outputs": [
        {
          "output_type": "stream",
          "name": "stdout",
          "text": [
            "=== INFORMACIÓN GENERAL ===\n",
            "Total de registros: 6423\n",
            "Total de columnas: 231\n"
          ]
        }
      ]
    },
    {
      "cell_type": "markdown",
      "source": [
        "# **Preguntas**\n",
        "1. ¿Cuál es el rango de edad más común?\n",
        "2. ¿Hay diferencias en la distribución por género?\n",
        "3. ¿Cuál es el grado militar más frecuente?"
      ],
      "metadata": {
        "id": "MF-914ZLalp2"
      }
    },
    {
      "cell_type": "markdown",
      "source": [
        "# **1. ¿Cuál es el rango de edad más común?**"
      ],
      "metadata": {
        "id": "AdT8vLLjoQgh"
      }
    },
    {
      "cell_type": "code",
      "source": [
        "#  1.¿Cuál es el rango de edad más común?\n",
        "# Retomamos el analisis de edad\n",
        "print(\"\\n=== RANGO DE EDAD MÁS COMÚN ===\")\n",
        "print(\"Promedio:\", df['EDAD2'].mean().round(1))\n",
        "print(\"Mínima:\", df['EDAD2'].min())\n",
        "print(\"Máxima:\", df['EDAD2'].max())"
      ],
      "metadata": {
        "colab": {
          "base_uri": "https://localhost:8080/"
        },
        "id": "whxSIak4cnKQ",
        "outputId": "e19b8472-2dfe-4d0d-98f9-c6fc49d1f5ce"
      },
      "execution_count": 7,
      "outputs": [
        {
          "output_type": "stream",
          "name": "stdout",
          "text": [
            "\n",
            "=== RANGO DE EDAD MÁS COMÚN ===\n",
            "Promedio: 36.7\n",
            "Mínima: 18.0\n",
            "Máxima: 69.0\n"
          ]
        }
      ]
    },
    {
      "cell_type": "code",
      "source": [
        "# Gráfico de edades\n",
        "plt.figure(figsize=(10, 6))\n",
        "plt.hist(df['EDAD2'], bins=20, edgecolor='black')\n",
        "plt.title('Distribución de Edades del Personal FAC')\n",
        "plt.xlabel('Edad')\n",
        "plt.ylabel('Cantidad de Personal')\n",
        "plt.show()"
      ],
      "metadata": {
        "colab": {
          "base_uri": "https://localhost:8080/",
          "height": 564
        },
        "id": "F_5xVz4_aW-a",
        "outputId": "b128b958-e5e2-4e73-a26e-16733f31bc97"
      },
      "execution_count": 8,
      "outputs": [
        {
          "output_type": "display_data",
          "data": {
            "text/plain": [
              "<Figure size 1000x600 with 1 Axes>"
            ],
            "image/png": "[encoded data removed]"
          },
          "metadata": {}
        }
      ]
    },
    {
      "cell_type": "code",
      "source": [
        "# Con la columna EDAD_RANGO ya categorizada\n",
        "print(\"Rango más común:\", df['EDAD_RANGO'].mode()[0])\n",
        "print(df['EDAD_RANGO'].value_counts())"
      ],
      "metadata": {
        "colab": {
          "base_uri": "https://localhost:8080/"
        },
        "id": "wASVDrGXdkCc",
        "outputId": "6e57a778-4fb4-4c70-f5db-8e7eaeb9a405"
      },
      "execution_count": 9,
      "outputs": [
        {
          "output_type": "stream",
          "name": "stdout",
          "text": [
            "Rango más común: 33-37\n",
            "EDAD_RANGO\n",
            "33-37    1254\n",
            "28-32    1211\n",
            "38-42    1012\n",
            "23-27     958\n",
            "43-47     601\n",
            "48-52     470\n",
            "53-57     371\n",
            "18-22     309\n",
            "58-62     194\n",
            "63-67      26\n",
            "68-72       4\n",
            "Name: count, dtype: int64\n"
          ]
        }
      ]
    },
    {
      "cell_type": "code",
      "source": [
        "print(\"\\n=== PROPORCION POR RANGO DE EDAD ===\")\n",
        "print(df['EDAD_RANGO'].value_counts(normalize=True) * 100)"
      ],
      "metadata": {
        "colab": {
          "base_uri": "https://localhost:8080/"
        },
        "id": "bnK80GywjsrE",
        "outputId": "3f12307d-2954-4f2d-cc50-71bca8377c4a"
      },
      "execution_count": 10,
      "outputs": [
        {
          "output_type": "stream",
          "name": "stdout",
          "text": [
            "\n",
            "=== PROPORCION POR RANGO DE EDAD ===\n",
            "EDAD_RANGO\n",
            "33-37    19.563183\n",
            "28-32    18.892356\n",
            "38-42    15.787832\n",
            "23-27    14.945398\n",
            "43-47     9.375975\n",
            "48-52     7.332293\n",
            "53-57     5.787832\n",
            "18-22     4.820593\n",
            "58-62     3.026521\n",
            "63-67     0.405616\n",
            "68-72     0.062402\n",
            "Name: proportion, dtype: float64\n"
          ]
        }
      ]
    },
    {
      "cell_type": "code",
      "source": [
        "# Gráfico\n",
        "df['EDAD_RANGO'].value_counts().plot(kind='bar', color='lightgreen', edgecolor='black')\n",
        "plt.title(\"Distribución por Rangos de Edad\")\n",
        "plt.xlabel(\"Rango de edad\")\n",
        "plt.ylabel(\"Número de personas\")\n",
        "plt.xticks(rotation=45)\n",
        "plt.show()"
      ],
      "metadata": {
        "colab": {
          "base_uri": "https://localhost:8080/",
          "height": 496
        },
        "id": "cYsD-KsGeK8_",
        "outputId": "72ef5339-a8ee-45b4-acec-4398b086974f"
      },
      "execution_count": 11,
      "outputs": [
        {
          "output_type": "display_data",
          "data": {
            "text/plain": [
              "<Figure size 640x480 with 1 Axes>"
            ],
            "image/png": "[encoded data removed]"
          },
          "metadata": {}
        }
      ]
    },
    {
      "cell_type": "markdown",
      "source": [
        "De esta manera podemos indicar que el rango de edad mas comun en nuestra base de datos es de 33-37 años con una edad promedio de 36.7 años"
      ],
      "metadata": {
        "id": "ztMXYos5dwM0"
      }
    },
    {
      "cell_type": "markdown",
      "source": [
        "# **2. ¿Hay diferencias en la distribución por género?**"
      ],
      "metadata": {
        "id": "jGwpk9kLona0"
      }
    },
    {
      "cell_type": "code",
      "source": [
        "# 2. ¿Hay diferencias en la distribución por género?\n",
        "print(\"\\n=== DISTRIBUCIÓN POR GÉNERO ===\")\n",
        "print(df['GENERO'].value_counts(normalize=True) * 100)"
      ],
      "metadata": {
        "colab": {
          "base_uri": "https://localhost:8080/"
        },
        "id": "GZ5RIJpIeB-i",
        "outputId": "160d0ebe-84d2-431e-e794-5bccde9d947f"
      },
      "execution_count": 12,
      "outputs": [
        {
          "output_type": "stream",
          "name": "stdout",
          "text": [
            "\n",
            "=== DISTRIBUCIÓN POR GÉNERO ===\n",
            "GENERO\n",
            "MASCULINO     69.297836\n",
            "FEMENINO      30.437490\n",
            "OTRO           0.233536\n",
            "NO BINARIO     0.031138\n",
            "Name: proportion, dtype: float64\n"
          ]
        }
      ]
    },
    {
      "cell_type": "code",
      "source": [
        "# Análisis de género\n",
        "print(\"\\n=== ANÁLISIS DE GÉNERO ===\")\n",
        "print(df['GENERO'].value_counts())"
      ],
      "metadata": {
        "colab": {
          "base_uri": "https://localhost:8080/"
        },
        "id": "4rSuXO0gepW_",
        "outputId": "10356be6-fbed-4ad6-d8b7-e480f0beef5d"
      },
      "execution_count": 13,
      "outputs": [
        {
          "output_type": "stream",
          "name": "stdout",
          "text": [
            "\n",
            "=== ANÁLISIS DE GÉNERO ===\n",
            "GENERO\n",
            "MASCULINO     4451\n",
            "FEMENINO      1955\n",
            "OTRO            15\n",
            "NO BINARIO       2\n",
            "Name: count, dtype: int64\n"
          ]
        }
      ]
    },
    {
      "cell_type": "code",
      "source": [
        "# Gráfico\n",
        "df['GENERO'].value_counts().plot(kind='bar', color='skyblue', edgecolor='black')\n",
        "plt.title(\"Distribución por Género\")\n",
        "plt.xlabel(\"Género\")\n",
        "plt.ylabel(\"Número de personas\")\n",
        "plt.show()"
      ],
      "metadata": {
        "colab": {
          "base_uri": "https://localhost:8080/",
          "height": 542
        },
        "id": "jgeFNVTIe4WM",
        "outputId": "120ca60d-b109-4cd0-c599-20863afe1458"
      },
      "execution_count": 15,
      "outputs": [
        {
          "output_type": "display_data",
          "data": {
            "text/plain": [
              "<Figure size 640x480 with 1 Axes>"
            ],
            "image/png": "[encoded data removed]"
          },
          "metadata": {}
        }
      ]
    },
    {
      "cell_type": "markdown",
      "source": [
        "En cuanto a la variable género, se observa un claro predominio del genero masculino dentro de la muestra, seguido por el femenino en menor proporción. Las categorías “Otro” y “No binario” tienen una baja participación."
      ],
      "metadata": {
        "id": "bogwU6v2fC7w"
      }
    },
    {
      "cell_type": "markdown",
      "source": [
        "# **3. ¿Cuál es el grado militar más frecuente?**"
      ],
      "metadata": {
        "id": "pm-_m1I2oxGM"
      }
    },
    {
      "cell_type": "code",
      "source": [
        "# 3. ¿Cuál es el grado militar más frecuente?\n",
        "print(\"\\n=== GRADO MILITAR MÁS FRECUENTE ===\")\n",
        "print(\"Grado más frecuente:\", df['GRADO'].mode()[0])\n",
        "print(df['GRADO'].value_counts().head())"
      ],
      "metadata": {
        "colab": {
          "base_uri": "https://localhost:8080/"
        },
        "id": "NsEyy9F4fCSy",
        "outputId": "4abf6de3-d63a-4917-da56-819735615b11"
      },
      "execution_count": 17,
      "outputs": [
        {
          "output_type": "stream",
          "name": "stdout",
          "text": [
            "\n",
            "=== GRADO MILITAR MÁS FRECUENTE ===\n",
            "Grado más frecuente: NO RESPONDE\n",
            "GRADO\n",
            "NO RESPONDE    1929\n",
            "T3              622\n",
            "T2              621\n",
            "T1              491\n",
            "CT              483\n",
            "Name: count, dtype: int64\n"
          ]
        }
      ]
    },
    {
      "cell_type": "code",
      "source": [
        "# Gráfico\n",
        "df['GRADO'].value_counts().head(10).plot(kind='bar', color='orange', edgecolor='black')\n",
        "plt.title(\"Top 10 Grados Militares Más Frecuentes\")\n",
        "plt.xlabel(\"Grado\")\n",
        "plt.ylabel(\"Número de personas\")\n",
        "plt.xticks(rotation=45)\n",
        "plt.show()"
      ],
      "metadata": {
        "colab": {
          "base_uri": "https://localhost:8080/",
          "height": 540
        },
        "id": "8l-RAyWfftSx",
        "outputId": "869d4254-6150-4ea1-8401-28301adfad38"
      },
      "execution_count": 18,
      "outputs": [
        {
          "output_type": "display_data",
          "data": {
            "text/plain": [
              "<Figure size 640x480 with 1 Axes>"
            ],
            "image/png": "[encoded data removed]"
          },
          "metadata": {}
        }
      ]
    },
    {
      "cell_type": "markdown",
      "source": [
        "La categoría más frecuente fue “No responde”, lo que evidencia un vacío de información en los registros. Entre quienes reportaron su rango, predominan los grados técnicos (T3 y T2), lo cual refleja que gran parte del personal encuestado corresponde a suboficiales técnicos en diferentes niveles. Los grados de oficiales aparecen en menor proporción."
      ],
      "metadata": {
        "id": "f_oYkrqwf0G8"
      }
    },
    {
      "cell_type": "code",
      "source": [
        "# Revisar relación entre CATEGORIA y GRADO\n",
        "pd.crosstab(df['CATEGORIA'], df['GRADO']).head(10)"
      ],
      "metadata": {
        "colab": {
          "base_uri": "https://localhost:8080/",
          "height": 175
        },
        "id": "vTjx13wEl8bT",
        "outputId": "0a1d6507-c7f9-43e9-f1a8-86e47ec6a989"
      },
      "execution_count": 16,
      "outputs": [
        {
          "output_type": "execute_result",
          "data": {
            "text/plain": [
              "GRADO        AT  BG  CR   CT  GR  MG   MY  NO RESPONDE   ST   T1   T2   T3  \\\n",
              "CATEGORIA                                                                    \n",
              "CIVIL         0   0   0    0   0   0    0         1929    0    0    0    0   \n",
              "OFICIAL       0   5  47  483   1   1  343            0  406    1    0    1   \n",
              "SUBOFICIAL  453   0   1    0   0   1    0            0    0  490  621  621   \n",
              "\n",
              "GRADO        T4   TC   TE  TJ  TJC  TS  \n",
              "CATEGORIA                               \n",
              "CIVIL         0    0    0   0    0   0  \n",
              "OFICIAL       0  140  416   0    0   0  \n",
              "SUBOFICIAL  319    0    0  61   11  72  "
            ],
            "text/html": [
              "\n",
              "  <div id=\"df-8d417e13-87f7-43c3-ae28-745e07e55cf8\" class=\"colab-df-container\">\n",
              "    <div>\n",
              "<style scoped>\n",
              "    .dataframe tbody tr th:only-of-type {\n",
              "        vertical-align: middle;\n",
              "    }\n",
              "\n",
              "    .dataframe tbody tr th {\n",
              "        vertical-align: top;\n",
              "    }\n",
              "\n",
              "    .dataframe thead th {\n",
              "        text-align: right;\n",
              "    }\n",
              "</style>\n",
              "<table border=\"1\" class=\"dataframe\">\n",
              "  <thead>\n",
              "    <tr style=\"text-align: right;\">\n",
              "      <th>GRADO</th>\n",
              "      <th>AT</th>\n",
              "      <th>BG</th>\n",
              "      <th>CR</th>\n",
              "      <th>CT</th>\n",
              "      <th>GR</th>\n",
              "      <th>MG</th>\n",
              "      <th>MY</th>\n",
              "      <th>NO RESPONDE</th>\n",
              "      <th>ST</th>\n",
              "      <th>T1</th>\n",
              "      <th>T2</th>\n",
              "      <th>T3</th>\n",
              "      <th>T4</th>\n",
              "      <th>TC</th>\n",
              "      <th>TE</th>\n",
              "      <th>TJ</th>\n",
              "      <th>TJC</th>\n",
              "      <th>TS</th>\n",
              "    </tr>\n",
              "    <tr>\n",
              "      <th>CATEGORIA</th>\n",
              "      <th></th>\n",
              "      <th></th>\n",
              "      <th></th>\n",
              "      <th></th>\n",
              "      <th></th>\n",
              "      <th></th>\n",
              "      <th></th>\n",
              "      <th></th>\n",
              "      <th></th>\n",
              "      <th></th>\n",
              "      <th></th>\n",
              "      <th></th>\n",
              "      <th></th>\n",
              "      <th></th>\n",
              "      <th></th>\n",
              "      <th></th>\n",
              "      <th></th>\n",
              "      <th></th>\n",
              "    </tr>\n",
              "  </thead>\n",
              "  <tbody>\n",
              "    <tr>\n",
              "      <th>CIVIL</th>\n",
              "      <td>0</td>\n",
              "      <td>0</td>\n",
              "      <td>0</td>\n",
              "      <td>0</td>\n",
              "      <td>0</td>\n",
              "      <td>0</td>\n",
              "      <td>0</td>\n",
              "      <td>1929</td>\n",
              "      <td>0</td>\n",
              "      <td>0</td>\n",
              "      <td>0</td>\n",
              "      <td>0</td>\n",
              "      <td>0</td>\n",
              "      <td>0</td>\n",
              "      <td>0</td>\n",
              "      <td>0</td>\n",
              "      <td>0</td>\n",
              "      <td>0</td>\n",
              "    </tr>\n",
              "    <tr>\n",
              "      <th>OFICIAL</th>\n",
              "      <td>0</td>\n",
              "      <td>5</td>\n",
              "      <td>47</td>\n",
              "      <td>483</td>\n",
              "      <td>1</td>\n",
              "      <td>1</td>\n",
              "      <td>343</td>\n",
              "      <td>0</td>\n",
              "      <td>406</td>\n",
              "      <td>1</td>\n",
              "      <td>0</td>\n",
              "      <td>1</td>\n",
              "      <td>0</td>\n",
              "      <td>140</td>\n",
              "      <td>416</td>\n",
              "      <td>0</td>\n",
              "      <td>0</td>\n",
              "      <td>0</td>\n",
              "    </tr>\n",
              "    <tr>\n",
              "      <th>SUBOFICIAL</th>\n",
              "      <td>453</td>\n",
              "      <td>0</td>\n",
              "      <td>1</td>\n",
              "      <td>0</td>\n",
              "      <td>0</td>\n",
              "      <td>1</td>\n",
              "      <td>0</td>\n",
              "      <td>0</td>\n",
              "      <td>0</td>\n",
              "      <td>490</td>\n",
              "      <td>621</td>\n",
              "      <td>621</td>\n",
              "      <td>319</td>\n",
              "      <td>0</td>\n",
              "      <td>0</td>\n",
              "      <td>61</td>\n",
              "      <td>11</td>\n",
              "      <td>72</td>\n",
              "    </tr>\n",
              "  </tbody>\n",
              "</table>\n",
              "</div>\n",
              "    <div class=\"colab-df-buttons\">\n",
              "\n",
              "  <div class=\"colab-df-container\">\n",
              "    <button class=\"colab-df-convert\" onclick=\"convertToInteractive('df-8d417e13-87f7-43c3-ae28-745e07e55cf8')\"\n",
              "            title=\"Convert this dataframe to an interactive table.\"\n",
              "            style=\"display:none;\">\n",
              "\n",
              "  <svg xmlns=\"http://www.w3.org/2000/svg\" height=\"24px\" viewBox=\"0 -960 960 960\">\n",
              "    <path d=\"M120-120v-720h720v720H120Zm60-500h600v-160H180v160Zm220 220h160v-160H400v160Zm0 220h160v-160H400v160ZM180-400h160v-160H180v160Zm440 0h160v-160H620v160ZM180-180h160v-160H180v160Zm440 0h160v-160H620v160Z\"/>\n",
              "  </svg>\n",
              "    </button>\n",
              "\n",
              "  <style>\n",
              "    .colab-df-container {\n",
              "      display:flex;\n",
              "      gap: 12px;\n",
              "    }\n",
              "\n",
              "    .colab-df-convert {\n",
              "      background-color: #E8F0FE;\n",
              "      border: none;\n",
              "      border-radius: 50%;\n",
              "      cursor: pointer;\n",
              "      display: none;\n",
              "      fill: #1967D2;\n",
              "      height: 32px;\n",
              "      padding: 0 0 0 0;\n",
              "      width: 32px;\n",
              "    }\n",
              "\n",
              "    .colab-df-convert:hover {\n",
              "      background-color: #E2EBFA;\n",
              "      box-shadow: 0px 1px 2px rgba(60, 64, 67, 0.3), 0px 1px 3px 1px rgba(60, 64, 67, 0.15);\n",
              "      fill: #174EA6;\n",
              "    }\n",
              "\n",
              "    .colab-df-buttons div {\n",
              "      margin-bottom: 4px;\n",
              "    }\n",
              "\n",
              "    [theme=dark] .colab-df-convert {\n",
              "      background-color: #3B4455;\n",
              "      fill: #D2E3FC;\n",
              "    }\n",
              "\n",
              "    [theme=dark] .colab-df-convert:hover {\n",
              "      background-color: #434B5C;\n",
              "      box-shadow: 0px 1px 3px 1px rgba(0, 0, 0, 0.15);\n",
              "      filter: drop-shadow(0px 1px 2px rgba(0, 0, 0, 0.3));\n",
              "      fill: #FFFFFF;\n",
              "    }\n",
              "  </style>\n",
              "\n",
              "    <script>\n",
              "      const buttonEl =\n",
              "        document.querySelector('#df-8d417e13-87f7-43c3-ae28-745e07e55cf8 button.colab-df-convert');\n",
              "      buttonEl.style.display =\n",
              "        google.colab.kernel.accessAllowed ? 'block' : 'none';\n",
              "\n",
              "      async function convertToInteractive(key) {\n",
              "        const element = document.querySelector('#df-8d417e13-87f7-43c3-ae28-745e07e55cf8');\n",
              "        const dataTable =\n",
              "          await google.colab.kernel.invokeFunction('convertToInteractive',\n",
              "                                                    [key], {});\n",
              "        if (!dataTable) return;\n",
              "\n",
              "        const docLinkHtml = 'Like what you see? Visit the ' +\n",
              "          '<a target=\"_blank\" href=https://colab.research.google.com/notebooks/data_table.ipynb>data table notebook</a>'\n",
              "          + ' to learn more about interactive tables.';\n",
              "        element.innerHTML = '';\n",
              "        dataTable['output_type'] = 'display_data';\n",
              "        await google.colab.output.renderOutput(dataTable, element);\n",
              "        const docLink = document.createElement('div');\n",
              "        docLink.innerHTML = docLinkHtml;\n",
              "        element.appendChild(docLink);\n",
              "      }\n",
              "    </script>\n",
              "  </div>\n",
              "\n",
              "\n",
              "    <div id=\"df-86156ab0-67d7-46c2-80c2-bb07713d90d8\">\n",
              "      <button class=\"colab-df-quickchart\" onclick=\"quickchart('df-86156ab0-67d7-46c2-80c2-bb07713d90d8')\"\n",
              "                title=\"Suggest charts\"\n",
              "                style=\"display:none;\">\n",
              "\n",
              "<svg xmlns=\"http://www.w3.org/2000/svg\" height=\"24px\"viewBox=\"0 0 24 24\"\n",
              "     width=\"24px\">\n",
              "    <g>\n",
              "        <path d=\"M19 3H5c-1.1 0-2 .9-2 2v14c0 1.1.9 2 2 2h14c1.1 0 2-.9 2-2V5c0-1.1-.9-2-2-2zM9 17H7v-7h2v7zm4 0h-2V7h2v10zm4 0h-2v-4h2v4z\"/>\n",
              "    </g>\n",
              "</svg>\n",
              "      </button>\n",
              "\n",
              "<style>\n",
              "  .colab-df-quickchart {\n",
              "      --bg-color: #E8F0FE;\n",
              "      --fill-color: #1967D2;\n",
              "      --hover-bg-color: #E2EBFA;\n",
              "      --hover-fill-color: #174EA6;\n",
              "      --disabled-fill-color: #AAA;\n",
              "      --disabled-bg-color: #DDD;\n",
              "  }\n",
              "\n",
              "  [theme=dark] .colab-df-quickchart {\n",
              "      --bg-color: #3B4455;\n",
              "      --fill-color: #D2E3FC;\n",
              "      --hover-bg-color: #434B5C;\n",
              "      --hover-fill-color: #FFFFFF;\n",
              "      --disabled-bg-color: #3B4455;\n",
              "      --disabled-fill-color: #666;\n",
              "  }\n",
              "\n",
              "  .colab-df-quickchart {\n",
              "    background-color: var(--bg-color);\n",
              "    border: none;\n",
              "    border-radius: 50%;\n",
              "    cursor: pointer;\n",
              "    display: none;\n",
              "    fill: var(--fill-color);\n",
              "    height: 32px;\n",
              "    padding: 0;\n",
              "    width: 32px;\n",
              "  }\n",
              "\n",
              "  .colab-df-quickchart:hover {\n",
              "    background-color: var(--hover-bg-color);\n",
              "    box-shadow: 0 1px 2px rgba(60, 64, 67, 0.3), 0 1px 3px 1px rgba(60, 64, 67, 0.15);\n",
              "    fill: var(--button-hover-fill-color);\n",
              "  }\n",
              "\n",
              "  .colab-df-quickchart-complete:disabled,\n",
              "  .colab-df-quickchart-complete:disabled:hover {\n",
              "    background-color: var(--disabled-bg-color);\n",
              "    fill: var(--disabled-fill-color);\n",
              "    box-shadow: none;\n",
              "  }\n",
              "\n",
              "  .colab-df-spinner {\n",
              "    border: 2px solid var(--fill-color);\n",
              "    border-color: transparent;\n",
              "    border-bottom-color: var(--fill-color);\n",
              "    animation:\n",
              "      spin 1s steps(1) infinite;\n",
              "  }\n",
              "\n",
              "  @keyframes spin {\n",
              "    0% {\n",
              "      border-color: transparent;\n",
              "      border-bottom-color: var(--fill-color);\n",
              "      border-left-color: var(--fill-color);\n",
              "    }\n",
              "    20% {\n",
              "      border-color: transparent;\n",
              "      border-left-color: var(--fill-color);\n",
              "      border-top-color: var(--fill-color);\n",
              "    }\n",
              "    30% {\n",
              "      border-color: transparent;\n",
              "      border-left-color: var(--fill-color);\n",
              "      border-top-color: var(--fill-color);\n",
              "      border-right-color: var(--fill-color);\n",
              "    }\n",
              "    40% {\n",
              "      border-color: transparent;\n",
              "      border-right-color: var(--fill-color);\n",
              "      border-top-color: var(--fill-color);\n",
              "    }\n",
              "    60% {\n",
              "      border-color: transparent;\n",
              "      border-right-color: var(--fill-color);\n",
              "    }\n",
              "    80% {\n",
              "      border-color: transparent;\n",
              "      border-right-color: var(--fill-color);\n",
              "      border-bottom-color: var(--fill-color);\n",
              "    }\n",
              "    90% {\n",
              "      border-color: transparent;\n",
              "      border-bottom-color: var(--fill-color);\n",
              "    }\n",
              "  }\n",
              "</style>\n",
              "\n",
              "      <script>\n",
              "        async function quickchart(key) {\n",
              "          const quickchartButtonEl =\n",
              "            document.querySelector('#' + key + ' button');\n",
              "          quickchartButtonEl.disabled = true;  // To prevent multiple clicks.\n",
              "          quickchartButtonEl.classList.add('colab-df-spinner');\n",
              "          try {\n",
              "            const charts = await google.colab.kernel.invokeFunction(\n",
              "                'suggestCharts', [key], {});\n",
              "          } catch (error) {\n",
              "            console.error('Error during call to suggestCharts:', error);\n",
              "          }\n",
              "          quickchartButtonEl.classList.remove('colab-df-spinner');\n",
              "          quickchartButtonEl.classList.add('colab-df-quickchart-complete');\n",
              "        }\n",
              "        (() => {\n",
              "          let quickchartButtonEl =\n",
              "            document.querySelector('#df-86156ab0-67d7-46c2-80c2-bb07713d90d8 button');\n",
              "          quickchartButtonEl.style.display =\n",
              "            google.colab.kernel.accessAllowed ? 'block' : 'none';\n",
              "        })();\n",
              "      </script>\n",
              "    </div>\n",
              "\n",
              "    </div>\n",
              "  </div>\n"
            ],
            "application/vnd.google.colaboratory.intrinsic+json": {
              "type": "dataframe",
              "summary": "{\n  \"name\": \"pd\",\n  \"rows\": 3,\n  \"fields\": [\n    {\n      \"column\": \"CATEGORIA\",\n      \"properties\": {\n        \"dtype\": \"string\",\n        \"num_unique_values\": 3,\n        \"samples\": [\n          \"CIVIL\",\n          \"OFICIAL\",\n          \"SUBOFICIAL\"\n        ],\n        \"semantic_type\": \"\",\n        \"description\": \"\"\n      }\n    },\n    {\n      \"column\": \"AT\",\n      \"properties\": {\n        \"dtype\": \"number\",\n        \"std\": 261,\n        \"min\": 0,\n        \"max\": 453,\n        \"num_unique_values\": 2,\n        \"samples\": [\n          453,\n          0\n        ],\n        \"semantic_type\": \"\",\n        \"description\": \"\"\n      }\n    },\n    {\n      \"column\": \"BG\",\n      \"properties\": {\n        \"dtype\": \"number\",\n        \"std\": 2,\n        \"min\": 0,\n        \"max\": 5,\n        \"num_unique_values\": 2,\n        \"samples\": [\n          5,\n          0\n        ],\n        \"semantic_type\": \"\",\n        \"description\": \"\"\n      }\n    },\n    {\n      \"column\": \"CR\",\n      \"properties\": {\n        \"dtype\": \"number\",\n        \"std\": 26,\n        \"min\": 0,\n        \"max\": 47,\n        \"num_unique_values\": 3,\n        \"samples\": [\n          0,\n          47\n        ],\n        \"semantic_type\": \"\",\n        \"description\": \"\"\n      }\n    },\n    {\n      \"column\": \"CT\",\n      \"properties\": {\n        \"dtype\": \"number\",\n        \"std\": 278,\n        \"min\": 0,\n        \"max\": 483,\n        \"num_unique_values\": 2,\n        \"samples\": [\n          483,\n          0\n        ],\n        \"semantic_type\": \"\",\n        \"description\": \"\"\n      }\n    },\n    {\n      \"column\": \"GR\",\n      \"properties\": {\n        \"dtype\": \"number\",\n        \"std\": 0,\n        \"min\": 0,\n        \"max\": 1,\n        \"num_unique_values\": 2,\n        \"samples\": [\n          1,\n          0\n        ],\n        \"semantic_type\": \"\",\n        \"description\": \"\"\n      }\n    },\n    {\n      \"column\": \"MG\",\n      \"properties\": {\n        \"dtype\": \"number\",\n        \"std\": 0,\n        \"min\": 0,\n        \"max\": 1,\n        \"num_unique_values\": 2,\n        \"samples\": [\n          1,\n          0\n        ],\n        \"semantic_type\": \"\",\n        \"description\": \"\"\n      }\n    },\n    {\n      \"column\": \"MY\",\n      \"properties\": {\n        \"dtype\": \"number\",\n        \"std\": 198,\n        \"min\": 0,\n        \"max\": 343,\n        \"num_unique_values\": 2,\n        \"samples\": [\n          343,\n          0\n        ],\n        \"semantic_type\": \"\",\n        \"description\": \"\"\n      }\n    },\n    {\n      \"column\": \"NO RESPONDE\",\n      \"properties\": {\n        \"dtype\": \"number\",\n        \"std\": 1113,\n        \"min\": 0,\n        \"max\": 1929,\n        \"num_unique_values\": 2,\n        \"samples\": [\n          0,\n          1929\n        ],\n        \"semantic_type\": \"\",\n        \"description\": \"\"\n      }\n    },\n    {\n      \"column\": \"ST\",\n      \"properties\": {\n        \"dtype\": \"number\",\n        \"std\": 234,\n        \"min\": 0,\n        \"max\": 406,\n        \"num_unique_values\": 2,\n        \"samples\": [\n          406,\n          0\n        ],\n        \"semantic_type\": \"\",\n        \"description\": \"\"\n      }\n    },\n    {\n      \"column\": \"T1\",\n      \"properties\": {\n        \"dtype\": \"number\",\n        \"std\": 282,\n        \"min\": 0,\n        \"max\": 490,\n        \"num_unique_values\": 3,\n        \"samples\": [\n          0,\n          1\n        ],\n        \"semantic_type\": \"\",\n        \"description\": \"\"\n      }\n    },\n    {\n      \"column\": \"T2\",\n      \"properties\": {\n        \"dtype\": \"number\",\n        \"std\": 358,\n        \"min\": 0,\n        \"max\": 621,\n        \"num_unique_values\": 2,\n        \"samples\": [\n          621,\n          0\n        ],\n        \"semantic_type\": \"\",\n        \"description\": \"\"\n      }\n    },\n    {\n      \"column\": \"T3\",\n      \"properties\": {\n        \"dtype\": \"number\",\n        \"std\": 358,\n        \"min\": 0,\n        \"max\": 621,\n        \"num_unique_values\": 3,\n        \"samples\": [\n          0,\n          1\n        ],\n        \"semantic_type\": \"\",\n        \"description\": \"\"\n      }\n    },\n    {\n      \"column\": \"T4\",\n      \"properties\": {\n        \"dtype\": \"number\",\n        \"std\": 184,\n        \"min\": 0,\n        \"max\": 319,\n        \"num_unique_values\": 2,\n        \"samples\": [\n          319,\n          0\n        ],\n        \"semantic_type\": \"\",\n        \"description\": \"\"\n      }\n    },\n    {\n      \"column\": \"TC\",\n      \"properties\": {\n        \"dtype\": \"number\",\n        \"std\": 80,\n        \"min\": 0,\n        \"max\": 140,\n        \"num_unique_values\": 2,\n        \"samples\": [\n          140,\n          0\n        ],\n        \"semantic_type\": \"\",\n        \"description\": \"\"\n      }\n    },\n    {\n      \"column\": \"TE\",\n      \"properties\": {\n        \"dtype\": \"number\",\n        \"std\": 240,\n        \"min\": 0,\n        \"max\": 416,\n        \"num_unique_values\": 2,\n        \"samples\": [\n          416,\n          0\n        ],\n        \"semantic_type\": \"\",\n        \"description\": \"\"\n      }\n    },\n    {\n      \"column\": \"TJ\",\n      \"properties\": {\n        \"dtype\": \"number\",\n        \"std\": 35,\n        \"min\": 0,\n        \"max\": 61,\n        \"num_unique_values\": 2,\n        \"samples\": [\n          61,\n          0\n        ],\n        \"semantic_type\": \"\",\n        \"description\": \"\"\n      }\n    },\n    {\n      \"column\": \"TJC\",\n      \"properties\": {\n        \"dtype\": \"number\",\n        \"std\": 6,\n        \"min\": 0,\n        \"max\": 11,\n        \"num_unique_values\": 2,\n        \"samples\": [\n          11,\n          0\n        ],\n        \"semantic_type\": \"\",\n        \"description\": \"\"\n      }\n    },\n    {\n      \"column\": \"TS\",\n      \"properties\": {\n        \"dtype\": \"number\",\n        \"std\": 41,\n        \"min\": 0,\n        \"max\": 72,\n        \"num_unique_values\": 2,\n        \"samples\": [\n          72,\n          0\n        ],\n        \"semantic_type\": \"\",\n        \"description\": \"\"\n      }\n    }\n  ]\n}"
            }
          },
          "metadata": {},
          "execution_count": 16
        }
      ]
    },
    {
      "cell_type": "code",
      "source": [
        "# Revisar porcentaje de \"No responde\" por CATEGORIA\n",
        "no_responde = df[df['GRADO'] == \"NO RESPONDE\"]\n",
        "print(no_responde['CATEGORIA'].value_counts(normalize=True) * 100)"
      ],
      "metadata": {
        "colab": {
          "base_uri": "https://localhost:8080/"
        },
        "id": "7Mam3wbSmUwg",
        "outputId": "c49938eb-1e37-434c-86cb-6c9994958f26"
      },
      "execution_count": 15,
      "outputs": [
        {
          "output_type": "stream",
          "name": "stdout",
          "text": [
            "CATEGORIA\n",
            "CIVIL    100.0\n",
            "Name: proportion, dtype: float64\n"
          ]
        }
      ]
    },
    {
      "cell_type": "markdown",
      "source": [
        "En el análisis del grado militar se observa que la categoría “No responde” corresponde en su totalidad a personal clasificado como “CIVIL”. Por lo tanto, esta ausencia no debe interpretarse como un dato faltante, sino como un valor no aplicable para este grupo, ya que los civiles no tienen rango militar"
      ],
      "metadata": {
        "id": "_H8T4DXjneXe"
      }
    },
    {
      "cell_type": "markdown",
      "source": [
        "# Clonar el repo en github"
      ],
      "metadata": {
        "id": "Xa3PySiosc_q"
      }
    },
    {
      "cell_type": "code",
      "source": [
        "!git clone https://github.com/yuneidy1703-png/Analisis-datos-fac-equipo-Yun.git"
      ],
      "metadata": {
        "colab": {
          "base_uri": "https://localhost:8080/"
        },
        "id": "egsUnxsxsh_n",
        "outputId": "581152c2-bc0e-4dd4-8cb0-4d652d8d6378"
      },
      "execution_count": 18,
      "outputs": [
        {
          "output_type": "stream",
          "name": "stdout",
          "text": [
            "Cloning into 'Analisis-datos-fac-equipo-Yun'...\n",
            "remote: Enumerating objects: 14, done.\u001b[K\n",
            "remote: Counting objects: 100% (14/14), done.\u001b[K\n",
            "remote: Compressing objects: 100% (10/10), done.\u001b[K\n",
            "remote: Total 14 (delta 1), reused 8 (delta 0), pack-reused 0 (from 0)\u001b[K\n",
            "Receiving objects: 100% (14/14), 5.25 MiB | 28.60 MiB/s, done.\n",
            "Resolving deltas: 100% (1/1), done.\n"
          ]
        }
      ]
    },
    {
      "cell_type": "code",
      "source": [
        "%cd Analisis-datos-fac-equipo-Yun"
      ],
      "metadata": {
        "colab": {
          "base_uri": "https://localhost:8080/"
        },
        "id": "punZbCT2snRI",
        "outputId": "39017704-2f17-45ee-ef01-60b01d08ace3"
      },
      "execution_count": 19,
      "outputs": [
        {
          "output_type": "stream",
          "name": "stdout",
          "text": [
            "/content/Analisis-datos-fac-equipo-Yun\n"
          ]
        }
      ]
    },
    {
      "cell_type": "code",
      "source": [
        "!mv /content/drive/MyDrive/Colab\\ Notebooks/Analisis_demografico.ipynb Reportes/"
      ],
      "metadata": {
        "id": "weIiNdAWsvFy"
      },
      "execution_count": 22,
      "outputs": []
    },
    {
      "cell_type": "code",
      "source": [
        "!git config --global user.email \"yuneidy1703@gmail.com\"\n",
        "!git config --global user.name \"Yuneidy\""
      ],
      "metadata": {
        "id": "gKNBd2pctyj1"
      },
      "execution_count": 24,
      "outputs": []
    },
    {
      "cell_type": "code",
      "source": [
        "!git config user.mail \"yuneidyuniverisidad@gmail.com\"\n",
        "!git config user.name \"Yun\""
      ],
      "metadata": {
        "id": "DEobCNEVuRIA"
      },
      "execution_count": 25,
      "outputs": []
    },
    {
      "cell_type": "code",
      "source": [
        "!git add Reportes/Analisis_demografico.ipynb"
      ],
      "metadata": {
        "id": "UfR-F87PukLu"
      },
      "execution_count": 26,
      "outputs": []
    },
    {
      "cell_type": "code",
      "source": [
        "!git commit -m \"Agrega notebook analisis_demografico a Reportes desde Colab\""
      ],
      "metadata": {
        "colab": {
          "base_uri": "https://localhost:8080/"
        },
        "id": "es_9V3A9uoWt",
        "outputId": "225a8522-ea11-408d-a4fb-ff18e28f0f4b"
      },
      "execution_count": 27,
      "outputs": [
        {
          "output_type": "stream",
          "name": "stdout",
          "text": [
            "[main 0651f61] Agrega notebook analisis_demografico a Reportes desde Colab\n",
            " 1 file changed, 1 insertion(+)\n",
            " create mode 100644 Reportes/Analisis_demografico.ipynb\n"
          ]
        }
      ]
    },
    {
      "cell_type": "code",
      "source": [
        "!git push"
      ],
      "metadata": {
        "colab": {
          "base_uri": "https://localhost:8080/"
        },
        "id": "t9cWrCUKuvoM",
        "outputId": "7d4a8dc1-77b0-4536-b8d5-fd8c8f6fcaa8"
      },
      "execution_count": 29,
      "outputs": [
        {
          "output_type": "stream",
          "name": "stdout",
          "text": [
            "fatal: could not read Username for 'https://github.com': No such device or address\n"
          ]
        }
      ]
    }
  ]
}