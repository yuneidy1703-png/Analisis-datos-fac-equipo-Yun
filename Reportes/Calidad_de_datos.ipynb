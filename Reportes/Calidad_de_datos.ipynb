{
  "nbformat": 4,
  "nbformat_minor": 0,
  "metadata": {
    "colab": {
      "provenance": [],
      "authorship_tag": "ABX9TyPAqubJR4bGOkJmEgCQIATf",
      "include_colab_link": true
    },
    "kernelspec": {
      "name": "python3",
      "display_name": "Python 3"
    },
    "language_info": {
      "name": "python"
    }
  },
  "cells": [
    {
      "cell_type": "markdown",
      "metadata": {
        "id": "view-in-github",
        "colab_type": "text"
      },
      "source": [
        "<a href=\"https://colab.research.google.com/github/yuneidy1703-png/Analisis-datos-fac-equipo-Yun/blob/main/Reportes/Calidad_de_datos.ipynb\" target=\"_parent\"><img src=\"https://colab.research.google.com/assets/colab-badge.svg\" alt=\"Open In Colab\"/></a>"
      ]
    },
    {
      "cell_type": "markdown",
      "source": [
        "# **Calidad de Datos**\n",
        "\n",
        "**Responsabilidades:**\n",
        "* Identificar datos faltantes y errores\n",
        "* Proponer estrategias de limpieza\n",
        "* Documentar problemas de calidad"
      ],
      "metadata": {
        "id": "IryocbtWU8eR"
      }
    },
    {
      "cell_type": "code",
      "execution_count": 1,
      "metadata": {
        "id": "_l9HZt9pUpnR"
      },
      "outputs": [],
      "source": [
        "# calidad_datos.py\n",
        "import pandas as pd\n",
        "import matplotlib.pyplot as plt"
      ]
    },
    {
      "cell_type": "code",
      "source": [
        "#Conectar a drive\n",
        "from google.colab import drive\n",
        "drive.mount('/content/drive')"
      ],
      "metadata": {
        "colab": {
          "base_uri": "https://localhost:8080/"
        },
        "id": "iDlf4kgOVXvK",
        "outputId": "ca200e74-0d2b-4c4c-de71-91ead798243f"
      },
      "execution_count": 2,
      "outputs": [
        {
          "output_type": "stream",
          "name": "stdout",
          "text": [
            "Mounted at /content/drive\n"
          ]
        }
      ]
    },
    {
      "cell_type": "code",
      "source": [
        "# Leer los datos\n",
        "df = pd.read_excel('/content/drive/MyDrive/Python/JEFAB_2024.xlsx')"
      ],
      "metadata": {
        "id": "4VB9F5dnVjKb"
      },
      "execution_count": 3,
      "outputs": []
    },
    {
      "cell_type": "code",
      "source": [
        "# Explorar estructura básica\n",
        "print(\"=== INFORMACIÓN GENERAL ===\")\n",
        "print(f\"Total de registros: {len(df)}\")\n",
        "print(f\"Total de columnas: {len(df.columns)}\")"
      ],
      "metadata": {
        "colab": {
          "base_uri": "https://localhost:8080/"
        },
        "id": "6DFIQwt_VynP",
        "outputId": "7892750b-df34-4320-c351-2d019efafda8"
      },
      "execution_count": 4,
      "outputs": [
        {
          "output_type": "stream",
          "name": "stdout",
          "text": [
            "=== INFORMACIÓN GENERAL ===\n",
            "Total de registros: 6423\n",
            "Total de columnas: 231\n"
          ]
        }
      ]
    },
    {
      "cell_type": "markdown",
      "source": [
        "# **Preguntas a responder:**\n",
        "\n",
        "1. ¿Qué columnas tienen más datos faltantes?\n",
        "2. ¿Hay registros duplicados?\n",
        "3. ¿Qué problemas de encoding se detectan?"
      ],
      "metadata": {
        "id": "9G1hm9YzV3I-"
      }
    },
    {
      "cell_type": "markdown",
      "source": [
        "# **1. ¿Qué columnas tienen más datos faltantes?**"
      ],
      "metadata": {
        "id": "bfsLcvLOWCcz"
      }
    },
    {
      "cell_type": "code",
      "source": [
        "print(\"=== ANÁLISIS DE DATOS FALTANTES ===\")\n",
        "missing_data = df.isnull().sum()\n",
        "missing_percent = (missing_data / len(df)) * 100\n",
        "print(\"Top 10 columnas con más datos faltantes:\")\n",
        "missing_info = pd.DataFrame({\n",
        "'Columna': missing_data.index,\n",
        "'Datos_Faltantes': missing_data.values,\n",
        "'Porcentaje': missing_percent.values\n",
        "}).sort_values('Datos_Faltantes', ascending=False)\n",
        "print(missing_info.head(10))\n"
      ],
      "metadata": {
        "colab": {
          "base_uri": "https://localhost:8080/"
        },
        "id": "6cLFf4TCXNGC",
        "outputId": "6a3da1fe-9ba8-4c89-c3fe-c1beb4a2648f"
      },
      "execution_count": 7,
      "outputs": [
        {
          "output_type": "stream",
          "name": "stdout",
          "text": [
            "=== ANÁLISIS DE DATOS FALTANTES ===\n",
            "Top 10 columnas con más datos faltantes:\n",
            "                                   Columna  Datos_Faltantes  Porcentaje\n",
            "213  NUMERO_PERSONAS_APORTE_SOSTENIMIENTO2             3928   61.155223\n",
            "212               NUMERO_HABITAN_VIVIENDA2             3808   59.286938\n",
            "31                            NUMERO_HIJOS             3217   50.085630\n",
            "32                          HIJOS_EN_HOGAR             3200   49.820956\n",
            "216                       EDAD_RANGO_PADRE             1939   30.188385\n",
            "17                              EDAD_PADRE             1939   30.188385\n",
            "215                       EDAD_RANGO_MADRE              889   13.840884\n",
            "13                              EDAD_MADRE              885   13.778608\n",
            "7                                    EDAD2               13    0.202398\n",
            "214                             EDAD_RANGO               13    0.202398\n"
          ]
        }
      ]
    },
    {
      "cell_type": "markdown",
      "source": [
        "Esto indica que el mayor problema de completitud se concentra en variables de composición familiar y condiciones del hogar, lo cual puede afectar la representatividad en análisis sociodemográficos si no se realiza imputación o un manejo adecuado de los nulos.\n",
        "\n",
        "Recomedaciones : Las variables con más de un 50% de faltantes requieren un análisis crítico; en algunos casos será mejor excluirlas segun su utilidad. En cambio, las variables de edad y número de hijos podrían beneficiarse de imputaciones condicionales o recodificación en categorías especiales, dependiendo del contexto de análisis."
      ],
      "metadata": {
        "id": "QGh2UOMEbNU7"
      }
    },
    {
      "cell_type": "markdown",
      "source": [
        "# **2. ¿Hay registros duplicados?**\n",
        "\n"
      ],
      "metadata": {
        "id": "NMFGdjowWHmt"
      }
    },
    {
      "cell_type": "code",
      "source": [
        "# Análisis de duplicados\n",
        "print(f\"\\n=== ANÁLISIS DE DUPLICADOS ===\")\n",
        "if n_duplicados > 0:\n",
        "    print(\"Se recomienda eliminarlos para evitar distorsiones.\")\n",
        "else:\n",
        "    print(\"No se encontraron registros duplicados.\")\n",
        "print(f\"Registros duplicados: {df.duplicated().sum()}\")"
      ],
      "metadata": {
        "colab": {
          "base_uri": "https://localhost:8080/"
        },
        "id": "2_aPxRe5WNrk",
        "outputId": "35607e53-d9de-4b57-b822-69a463247c92"
      },
      "execution_count": 12,
      "outputs": [
        {
          "output_type": "stream",
          "name": "stdout",
          "text": [
            "\n",
            "=== ANÁLISIS DE DUPLICADOS ===\n",
            "No se encontraron registros duplicados.\n",
            "Registros duplicados: 0\n"
          ]
        }
      ]
    },
    {
      "cell_type": "markdown",
      "source": [
        "Esto significa que no existen filas repetidas que nos puedan generar sesgos o inflar frecuencias en posteriores análisis estadísticos"
      ],
      "metadata": {
        "id": "8dM8SCRWZw8s"
      }
    },
    {
      "cell_type": "markdown",
      "source": [
        "# **3. ¿Qué problemas de encoding se detectan?**"
      ],
      "metadata": {
        "id": "xOJQ95ncWOLT"
      }
    },
    {
      "cell_type": "code",
      "source": [
        "# Análisis de tipos de datos\n",
        "print(f\"\\n=== TIPOS DE DATOS ===\")\n",
        "print(df.dtypes.value_counts())\n",
        "# Identificar columnas problemáticas\n",
        "print(f\"\\n=== COLUMNAS CON CARACTERES ESPECIALES ===\")\n",
        "problematic_columns = [col for col in df.columns if 'Ã' in col or 'â' in col]\n",
        "print(f\"Columnas con encoding problemático: {len(problematic_columns)}\")\n",
        "for col in problematic_columns[:5]:\n",
        "    print(f\" - {col}\")"
      ],
      "metadata": {
        "colab": {
          "base_uri": "https://localhost:8080/"
        },
        "id": "f63tYM6SWSqc",
        "outputId": "4e3ea16b-c464-4dea-bdf8-9a63b7b025c9"
      },
      "execution_count": 14,
      "outputs": [
        {
          "output_type": "stream",
          "name": "stdout",
          "text": [
            "\n",
            "=== TIPOS DE DATOS ===\n",
            "int64      153\n",
            "object      66\n",
            "float64     12\n",
            "Name: count, dtype: int64\n",
            "\n",
            "=== COLUMNAS CON CARACTERES ESPECIALES ===\n",
            "Columnas con encoding problemático: 0\n"
          ]
        }
      ]
    },
    {
      "cell_type": "markdown",
      "source": [
        "La base está conformada principalmente por:\n",
        "\n",
        "* 153 columnas de tipo entero (int64)\n",
        "* 66 columnas categóricas (object)\n",
        "* 12 columnas numéricas decimales (float64)\n",
        "\n",
        "Predominan las variables enteras y categóricas esto refleja que gran parte de la información corresponde a conteos y clasificaciones (edad, hijos, rangos, etc.), lo cual es consistente con bases de encuestas sociodemográficos."
      ],
      "metadata": {
        "id": "N0me4rNRaJlq"
      }
    }
  ]
}